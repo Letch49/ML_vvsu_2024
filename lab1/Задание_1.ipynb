{
  "nbformat": 4,
  "nbformat_minor": 0,
  "metadata": {
    "colab": {
      "provenance": [],
      "include_colab_link": true
    },
    "kernelspec": {
      "name": "python3",
      "display_name": "Python 3"
    },
    "language_info": {
      "name": "python"
    }
  },
  "cells": [
    {
      "cell_type": "markdown",
      "metadata": {
        "id": "view-in-github",
        "colab_type": "text"
      },
      "source": [
        "<a href=\"https://colab.research.google.com/github/Letch49/ML_vvsu_2024/blob/master/lab1/%D0%97%D0%B0%D0%B4%D0%B0%D0%BD%D0%B8%D0%B5_1.ipynb\" target=\"_parent\"><img src=\"https://colab.research.google.com/assets/colab-badge.svg\" alt=\"Open In Colab\"/></a>"
      ]
    },
    {
      "cell_type": "markdown",
      "source": [
        "#Задание по практике 1"
      ],
      "metadata": {
        "id": "GPeCjINIB7yD"
      }
    },
    {
      "cell_type": "markdown",
      "source": [
        "##Загрузка датасета\n",
        "В файле classification datasets расположены ссылки на датасеты. Выберите один в соответствии со своим вариантом, скачайте и прочитайте файл\n",
        "\n",
        "**Не забудьте загрузить нужные библиотеки**\n",
        "\n",
        "Например: pip3 install pandas"
      ],
      "metadata": {
        "id": "GE87C5erCBDJ"
      }
    },
    {
      "cell_type": "code",
      "source": [
        "import pandas as pd"
      ],
      "metadata": {
        "id": "WnSz-AhVEk3h"
      },
      "execution_count": null,
      "outputs": []
    },
    {
      "cell_type": "code",
      "execution_count": null,
      "metadata": {
        "id": "ohUbus7eB5q6"
      },
      "outputs": [],
      "source": [
        "df = #ваш код здесь\n",
        "df"
      ]
    },
    {
      "cell_type": "markdown",
      "source": [
        "##Первое знакомство с датасетом\n",
        "В следующих ячейках выведите:\n",
        "\n",
        "\n",
        "1.   Колонки датасета\n",
        "2.   Первые 5 значений\n",
        "3.   Последние 5 значений\n",
        "4.   Статистику по числовым колонкам\n",
        "\n"
      ],
      "metadata": {
        "id": "ICeh1-0ECqVA"
      }
    },
    {
      "cell_type": "code",
      "source": [
        "#Колонки"
      ],
      "metadata": {
        "id": "wfMMJNZQDRGN"
      },
      "execution_count": null,
      "outputs": []
    },
    {
      "cell_type": "code",
      "source": [
        "#Первые 5 значений"
      ],
      "metadata": {
        "id": "u-qEDktXDTjV"
      },
      "execution_count": null,
      "outputs": []
    },
    {
      "cell_type": "code",
      "source": [
        "#Последние 5 значений"
      ],
      "metadata": {
        "id": "zp370c3wDT66"
      },
      "execution_count": null,
      "outputs": []
    },
    {
      "cell_type": "code",
      "source": [
        "#Статистику"
      ],
      "metadata": {
        "id": "orUf536tDUHK"
      },
      "execution_count": null,
      "outputs": []
    },
    {
      "cell_type": "markdown",
      "source": [
        "**Ответьте на следующие вопросы:**\n",
        "\n",
        "\n",
        "1.   Какие средние значения в каждой числовой колонке вашего датасета?\n",
        "2.   Минимальные и максимальные значения в каждой числовой колонке вашего датасета\n",
        "\n"
      ],
      "metadata": {
        "id": "xuB7JYzyDYEc"
      }
    },
    {
      "cell_type": "markdown",
      "source": [
        "\n",
        "\n",
        "1.   **Ответ 1.**\n",
        "2.   **Ответ 2.**\n",
        "\n"
      ],
      "metadata": {
        "id": "kgghkMkNE-4T"
      }
    },
    {
      "cell_type": "markdown",
      "source": [
        "##Типизация\n",
        "Присвойте соответствующим колонкам один из типов (category, float, int)"
      ],
      "metadata": {
        "id": "9IltihjID-yS"
      }
    },
    {
      "cell_type": "code",
      "source": [
        "\"\"\"\n",
        "\n",
        "Место для вашего кода\n",
        "\n",
        "\"\"\"\n",
        "#Вывести типы колонок тут"
      ],
      "metadata": {
        "id": "J0We0ixwEJY_"
      },
      "execution_count": null,
      "outputs": []
    },
    {
      "cell_type": "markdown",
      "source": [
        "Какие признаки вы можете выделить в своем датасете (категориальные, числовые и др., **минимум 3 разных**, помните что можно также выделить признаки более точно, например числовые - порядковые, количественные и т.д.)?"
      ],
      "metadata": {
        "id": "-Vxwu4V6EV5E"
      }
    },
    {
      "cell_type": "markdown",
      "source": [
        "##Фильтрация\n",
        "Офильтруйте 3 колонки вашего датасета и выведите результат"
      ],
      "metadata": {
        "id": "3wl_e1KAFjX8"
      }
    },
    {
      "cell_type": "code",
      "source": [
        "#Фильтр колонки 1"
      ],
      "metadata": {
        "id": "osXHN71AFr5W"
      },
      "execution_count": null,
      "outputs": []
    },
    {
      "cell_type": "code",
      "source": [
        "#Фильтр колонки 2"
      ],
      "metadata": {
        "id": "pN-YxYZ2Funs"
      },
      "execution_count": null,
      "outputs": []
    },
    {
      "cell_type": "code",
      "source": [
        "#Фильтр колонки 3"
      ],
      "metadata": {
        "id": "49C6UmFhFup2"
      },
      "execution_count": null,
      "outputs": []
    },
    {
      "cell_type": "markdown",
      "source": [
        "##Группировка\n",
        "Сгруппируйте датасет по какому-либо категориальному признаку и выведите среднее значение численных колонок (см. метод mean в pandas)"
      ],
      "metadata": {
        "id": "RSIqab5EFy7a"
      }
    },
    {
      "cell_type": "code",
      "source": [
        "#Группировка"
      ],
      "metadata": {
        "id": "qrW2zjeIGCKZ"
      },
      "execution_count": null,
      "outputs": []
    },
    {
      "cell_type": "markdown",
      "source": [
        "##Задание для гениев *\n",
        "Агрегируйте числовой признак по категориальному признаку с использованием метода **без использования** библиотеки pandas, и вычислите медиану и среднее значение для каждой категории."
      ],
      "metadata": {
        "id": "tzTVu1peEpMr"
      }
    },
    {
      "cell_type": "code",
      "source": [
        "#Агрегация"
      ],
      "metadata": {
        "id": "q50GFQVjFn1A"
      },
      "execution_count": null,
      "outputs": []
    }
  ]
}