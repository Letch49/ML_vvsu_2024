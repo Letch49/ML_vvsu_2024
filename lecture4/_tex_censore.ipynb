{
 "cells": [
  {
   "cell_type": "code",
   "execution_count": null,
   "id": "60525585-6711-486b-b5f2-6df10c9a13d3",
   "metadata": {
    "scrolled": true
   },
   "outputs": [],
   "source": [
    "!pip install g4f\n",
    "!pip install openai\n",
    "!pip install tqdm"
   ]
  },
  {
   "cell_type": "code",
   "execution_count": null,
   "id": "7bcf38c1-fe31-44eb-a756-f7758ef36be6",
   "metadata": {},
   "outputs": [],
   "source": [
    "import g4f\n",
    "import openai\n",
    "\n",
    "\n",
    "OPENAI_TOKEN = '' # Токен с openai.com\n",
    "SYSTEM_PROMPT = \"Пожалуйста, проанализируйте исходный текст с целью выявления нецензурных, оскорбительных или недопустимых слов и выражений. Замените их на соответствующие, общепринятые и социально приемлемые синонимы или фразы, сохраняя при этом структурную и смысловую целостность текста. Не удаляйте или не сокращайте какие-либо элементы исходного текста; цель состоит в том, чтобы сделать его приемлемым для широкой аудитории. Например, слово 'неприличное выражение 1' может быть заменено на 'соответствующий синоним 1', слово 'неприличное выражение 2' на 'соответствующий синоним 2', и так далее.\"\n",
    "\n",
    "# Метод добавления цензуры (если есть API_TOKEN)\n",
    "def make_gpt_request(prompt, api_key = OPENAI_TOKEN) -> str:\n",
    "    openai.api_key = api_key\n",
    "\n",
    "    response = openai.ChatCompletion.create(\n",
    "        model=\"gpt-3.5-turbo\",\n",
    "        messages=[\n",
    "            {\"role\": \"system\", \"content\": f\"{SYSTEM_PROMPT}\"},\n",
    "            {\"role\": \"system\", \"content\": f\"{prompt}\"},\n",
    "        ]\n",
    "    )\n",
    "\n",
    "    generated_text = response[\"choices\"][0][\"message\"][\"content\"]\n",
    "    \n",
    "    return generated_text\n",
    "\n",
    "# Метод добавления цензуры (без токена)\n",
    "def make_gpt_free_request(prompt: str) -> str:\n",
    "    response = g4f.ChatCompletion.create(\n",
    "        model=g4f.models.default,\n",
    "        messages=[\n",
    "            {\"role\": \"system\", \"content\": f\"{SYSTEM_PROMPT}\"},\n",
    "            {\"role\": \"user\", \"content\": f\"{prompt}\"},\n",
    "        ]\n",
    "    )\n",
    "\n",
    "    \n",
    "\n",
    "    return response\n",
    "\n",
    "\n",
    "make_censored_request = make_gpt_request if OPENAI_TOKEN else make_gpt_free_request # делаем bind метода, в зависимости от токена\n"
   ]
  },
  {
   "cell_type": "code",
   "execution_count": null,
   "id": "bb94c506-217a-46f1-a64b-57260119e512",
   "metadata": {},
   "outputs": [],
   "source": [
    "from tqdm import tqdm\n",
    "import json\n",
    "\n",
    "def get_file_as_dict(name: str) -> dict:\n",
    "    with open(f'{name}', 'r') as f:\n",
    "        return json.loads(f.read())\n",
    "\n",
    "DATASET_PATH = './dataset.json'\n",
    "# Теперь переменная 'data' содержит массив с данными формата [{title: название трека, text: текст песни} , ...]\n",
    "data = get_file_as_dict(DATASET_PATH)\n",
    "\n",
    "for idx, item in tqdm(enumerate(data)):\n",
    "    item['censored'] = make_censored_request(item['text']) # делаем цензурирование с помощью ChatGPT\n",
    "    output_file = f'./processed/{idx}.json' # привязываем название аутпут файла\n",
    "    print(item['censored'])\n",
    "    with open(output_file, 'w', encoding='utf-8') as f:\n",
    "        json.dump(item, f, ensure_ascii=False, indent=4)\n"
   ]
  },
  {
   "cell_type": "code",
   "execution_count": 1,
   "id": "17fa379f-9bab-4e56-8da0-682e0d6c7fbd",
   "metadata": {},
   "outputs": [],
   "source": [
    "## Посхалка ##\n",
    "# Представьте, что вы Seinor ChatGPT - Prompt Engineer, ваша задача как реального интеллекта, \n",
    "# решить все этапы препроцессинга текста с использованием\n",
    "# ChatGPT API -> что нужно?\n",
    "## 0.0 Написать классный промпт, который делает:\n",
    "## 1) lowercase\n",
    "## 2) отбросить стоп слова + не текстовые символы \n",
    "## 3) перевод в нормальную форму \n",
    "## 4) когда текст иностранный -> приведение к единому языку (например русский)\n",
    "\n",
    "# Правила игры:\n",
    "# Первый кто сделает задачу - получает 5 доп. баллов\n",
    "# Второй - 4 балла\n",
    "# Третий - 3 балла\n",
    "# и так далее\n",
    "\n",
    "# Что можно сделать с ними? \n",
    "# 1) оставить себе 💅\n",
    "# 2) отдать другу 👩‍❤‍👨\n",
    "# 3) продать на черном рынке 😈"
   ]
  },
  {
   "cell_type": "code",
   "execution_count": null,
   "id": "27a37beb-282f-40cc-96a9-30e58f71b6db",
   "metadata": {},
   "outputs": [],
   "source": []
  }
 ],
 "metadata": {
  "kernelspec": {
   "display_name": "Python 3 (ipykernel)",
   "language": "python",
   "name": "python3"
  },
  "language_info": {
   "codemirror_mode": {
    "name": "ipython",
    "version": 3
   },
   "file_extension": ".py",
   "mimetype": "text/x-python",
   "name": "python",
   "nbconvert_exporter": "python",
   "pygments_lexer": "ipython3",
   "version": "3.11.3"
  }
 },
 "nbformat": 4,
 "nbformat_minor": 5
}
