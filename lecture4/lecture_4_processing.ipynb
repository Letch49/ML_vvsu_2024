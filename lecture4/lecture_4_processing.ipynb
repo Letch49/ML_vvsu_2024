{
 "cells": [
  {
   "cell_type": "code",
   "execution_count": null,
   "id": "ae80000a-e842-4318-92ea-520eddb844d3",
   "metadata": {},
   "outputs": [],
   "source": [
    "import pandas as pd\n",
    "import matplotlib.pyplot as plt\n",
    "import seaborn as sns\n",
    "\n",
    "# Load the data\n",
    "df = pd.read_excel('tuber.xlsx', sheet_name='исходные данные')"
   ]
  },
  {
   "cell_type": "code",
   "execution_count": null,
   "id": "d453175e-2471-4fd9-92b2-c2457a07ea13",
   "metadata": {},
   "outputs": [],
   "source": [
    "df['вес'].dropna()"
   ]
  },
  {
   "cell_type": "markdown",
   "id": "0a694c71-736c-44db-9aeb-fdc26be96a2b",
   "metadata": {},
   "source": [
    "# Удаление пропусков\n",
    "1. выбираем исследуемый признак для пропусков\n",
    "2. получаем индексы\n",
    "3. удаляем из датафрейма"
   ]
  },
  {
   "cell_type": "code",
   "execution_count": null,
   "id": "9f7fba82-6832-4529-955e-ad1273817aa6",
   "metadata": {},
   "outputs": [],
   "source": [
    "missing_indices = df[df['к/дней'].isna()].index # получаем индексы пропусков\n",
    "print(f\"Индексы пропущенных значений: {missing_indices}\")\n",
    "\n",
    "df_dropped = df.dropna(subset=['к/дней']).copy()\n",
    "\n",
    "df_dropped"
   ]
  },
  {
   "cell_type": "code",
   "execution_count": null,
   "id": "10c33bc0-3d1c-4ee8-8456-8bdf00d346a4",
   "metadata": {},
   "outputs": [],
   "source": [
    "df_dropped = df.drop(missing_indices).copy()\n",
    "\n",
    "df_dropped"
   ]
  },
  {
   "cell_type": "markdown",
   "id": "de7b9c58-0dbe-4461-91b4-6362fb3f47d7",
   "metadata": {},
   "source": [
    "# Заполнение медианой и средним\n",
    "1. выбираем исследуемый признак\n",
    "2. считаем статистику\n",
    "3. заполняем\n",
    "4. проверяем, что переменная не искажает результаты"
   ]
  },
  {
   "cell_type": "code",
   "execution_count": null,
   "id": "0b7548a5-bf2e-4583-924c-2e9b16b4a00a",
   "metadata": {},
   "outputs": [],
   "source": [
    "df_filled_mean = df.copy()\n",
    "df_filled_median = df.copy()\n",
    "\n",
    "# Заполнение пропусков средним значением\n",
    "mean_value = df['возраст'].mean()\n",
    "df_filled_mean['возраст'].fillna(mean_value, inplace=True)\n",
    "\n",
    "# Заполнение пропусков медианой\n",
    "median_value = df['возраст'].median()\n",
    "df_filled_median['возраст'].fillna(median_value, inplace=True)\n",
    "\n"
   ]
  },
  {
   "cell_type": "code",
   "execution_count": null,
   "id": "08d2c790-cec3-4ca9-92a2-325d70040e23",
   "metadata": {},
   "outputs": [],
   "source": [
    "# Получение описательных статистик для каждого DataFrame\n",
    "desc_original = df['возраст'].describe()\n",
    "desc_filled_mean = df_filled_mean['возраст'].describe()\n",
    "desc_filled_median = df_filled_median['возраст'].describe()\n",
    "\n",
    "# Объединение описательных статистик в одну таблицу\n",
    "desc_table = pd.concat([desc_original, desc_filled_mean, desc_filled_median], axis=1)\n",
    "desc_table.columns = ['Original', 'Filled with Mean', 'Filled with Median']\n",
    "desc_table"
   ]
  },
  {
   "cell_type": "markdown",
   "id": "029d0c84-3a82-48bb-9818-5d3e1ba48427",
   "metadata": {},
   "source": [
    "# Интерполяция и экстраполяция\n",
    "1. Работет с временными рядами\n",
    "2. Интерполяция - поиск на основе прошлого и следующего значения\n",
    "3. Экстраполяция - поиск следующих на основе уже известных"
   ]
  },
  {
   "cell_type": "code",
   "execution_count": null,
   "id": "3514e2d1-eeb5-467d-b60e-4c58726fc53b",
   "metadata": {},
   "outputs": [],
   "source": [
    "import numpy as np\n",
    "import pandas as pd\n",
    "import matplotlib.pyplot as plt\n",
    "\n",
    "# Создаем искусственные данные\n",
    "np.random.seed(42)\n",
    "months = np.array(['Январь', 'Февраль', 'Март', 'Апрель', 'Май', 'Июнь', \n",
    "                   'Июль', 'Август', 'Сентябрь', 'Октябрь', 'Ноябрь', 'Декабрь'])\n",
    "sales = 100 + 20 * np.sin(np.linspace(0, 2 * np.pi, 12)) + 10 * np.random.normal(size=12)\n",
    "\n",
    "# Искусственно создаем пропущенные значения\n",
    "sales[3] = np.nan\n",
    "sales[7] = np.nan\n",
    "\n",
    "df_inter = pd.DataFrame({'Месяц': months, 'Продажи': sales})\n",
    "\n",
    "# Заполняем пропущенные значения через интерполяцию\n",
    "df_inter['Интерполированные продажи'] = df_inter['Продажи'].interpolate(method='linear')\n",
    "\n",
    "# График\n",
    "plt.figure(figsize=(12,6))\n",
    "plt.bar(df_inter['Месяц'], df_inter['Продажи'], label='Оригинальные продажи с пропущенными значениями')\n",
    "plt.bar(df_inter['Месяц'], df_inter['Интерполированные продажи'], label='Интерполированные продажи', color='orange', alpha=0.5)\n",
    "plt.xticks(rotation=45)\n",
    "plt.legend()\n",
    "plt.show()"
   ]
  },
  {
   "cell_type": "code",
   "execution_count": null,
   "id": "f5e8a806-4f4b-4734-902d-632873b85a29",
   "metadata": {},
   "outputs": [],
   "source": [
    "df_inter[['Месяц', 'Продажи']]"
   ]
  },
  {
   "cell_type": "code",
   "execution_count": null,
   "id": "3c282e97-1dce-4e33-a9af-7c9f81216d3a",
   "metadata": {},
   "outputs": [],
   "source": [
    "from sklearn.linear_model import LinearRegression\n",
    "\n",
    "# Подготовка данных для экстраполяции\n",
    "X = np.array(range(0, 12)).reshape(-1, 1) # месяцы\n",
    "y = df_inter['Интерполированные продажи'].values\n",
    "# Создание модели линейной регрессии\n",
    "model = LinearRegression()\n",
    "model.fit(X, y)\n",
    "\n",
    "# Экстраполяция на следующий год\n",
    "X_future = np.array(range(12, 24)).reshape(-1, 1)\n",
    "sales_future = model.predict(X_future)\n",
    "\n",
    "# Добавляем экстраполированные данные в наш датасет\n",
    "df_future = pd.DataFrame({'Месяц': months, 'Продажи': sales_future})\n",
    "\n",
    "# График\n",
    "plt.figure(figsize=(12,6))\n",
    "plt.bar(df_future['Месяц'], df_future['Продажи'], label='Продажи')\n",
    "plt.xticks(rotation=45)\n",
    "plt.legend()\n",
    "plt.show()"
   ]
  },
  {
   "cell_type": "markdown",
   "id": "48210fe3-4070-4a98-88ae-ad406f7c24f3",
   "metadata": {},
   "source": [
    "# Заполнение пропусков на основе корреляции"
   ]
  },
  {
   "cell_type": "code",
   "execution_count": null,
   "id": "34c2d179-5e66-413f-a4c0-aed31384e47b",
   "metadata": {},
   "outputs": [],
   "source": [
    "import pandas as pd\n",
    "import numpy as np\n",
    "\n",
    "def fill_missing_values(df, target_column, other_columns):\n",
    "    df = df.copy()\n",
    "    # Фильтрация данных, чтобы убрать строки, где целевая колонка уже заполнена\n",
    "    df_missing = df[df[target_column].isna()]\n",
    "    \n",
    "    # Среднее значение целевой колонки\n",
    "    target_mean = df[target_column].mean()\n",
    "    \n",
    "    for idx, row in df_missing.iterrows():\n",
    "        weighted_sums = 0\n",
    "        correlation_sums = 0\n",
    "        for col in other_columns:\n",
    "            # Пропускаем, если в текущей строке пропущенное значение в одной из other_columns\n",
    "            if np.isnan(row[col]):\n",
    "                continue\n",
    "            \n",
    "            # Среднее значение для текущей колонки из other_columns\n",
    "            col_mean = df[col].mean()\n",
    "            \n",
    "            # Коэффициент корреляции между target_column и текущей колонкой\n",
    "            correlation = df[target_column].corr(df[col])\n",
    "            \n",
    "            # Вычисляем взвешенное значение\n",
    "            weighted_value = correlation * (row[col] - col_mean)\n",
    "            \n",
    "            # Обновляем суммы\n",
    "            weighted_sums += weighted_value\n",
    "            correlation_sums += abs(correlation)\n",
    "        \n",
    "        # Вычисляем прогнозируемое значение для пропущенного значения\n",
    "        if correlation_sums != 0:\n",
    "            predicted_value = target_mean + weighted_sums / correlation_sums\n",
    "        else:\n",
    "            predicted_value = target_mean\n",
    "        \n",
    "        # Заполняем пропущенное значение\n",
    "        df.at[idx, target_column] = predicted_value\n",
    "    \n",
    "    return df\n",
    "\n"
   ]
  },
  {
   "cell_type": "code",
   "execution_count": null,
   "id": "60b2dedd-07d1-42b6-942e-dc48938dca45",
   "metadata": {},
   "outputs": [],
   "source": [
    "df[['к/дней','рост', 'вес', 'возраст']].corr()"
   ]
  },
  {
   "cell_type": "code",
   "execution_count": null,
   "id": "8c789808-3d5b-4c0b-8c00-ba39b98401e3",
   "metadata": {},
   "outputs": [],
   "source": [
    "df_filled_by_corr = fill_missing_values(_, 'к/дней', ['рост', 'вес', 'возраст'])"
   ]
  },
  {
   "cell_type": "code",
   "execution_count": null,
   "id": "b70df41e-5105-4be5-a882-3e868272cbb3",
   "metadata": {},
   "outputs": [],
   "source": [
    "df['к/дней'].describe()"
   ]
  },
  {
   "cell_type": "code",
   "execution_count": null,
   "id": "e71dbdf6-ea7d-456c-a97b-202d76cb837d",
   "metadata": {},
   "outputs": [],
   "source": [
    "df_filled_by_corr['к/дней'].describe()"
   ]
  },
  {
   "cell_type": "code",
   "execution_count": null,
   "id": "356f6cc0-722b-4720-bf84-a3e2a51d338f",
   "metadata": {},
   "outputs": [],
   "source": [
    "def plot_distributions(before, after, column_name):\n",
    "    plt.figure(figsize=(14, 6))\n",
    "\n",
    "    plt.subplot(1, 2, 1)\n",
    "    sns.histplot(before[column_name], kde=False, bins=10)\n",
    "    plt.title('Распределение до заполнения')\n",
    "\n",
    "    plt.subplot(1, 2, 2)\n",
    "    sns.histplot(after[column_name], kde=False, bins=10)\n",
    "    plt.title('Распределение после заполнения')\n",
    "\n",
    "    plt.show()\n",
    "\n",
    "plot_distributions(df, df_filled_by_corr, 'к/дней')"
   ]
  },
  {
   "cell_type": "markdown",
   "id": "05f36a14-a0fa-40c6-b094-da41027f8740",
   "metadata": {},
   "source": [
    "# KNN на основе ближайших соседей (расстояние)"
   ]
  },
  {
   "cell_type": "code",
   "execution_count": null,
   "id": "c580e248-f742-4783-a03f-89779a8252f1",
   "metadata": {},
   "outputs": [],
   "source": [
    "df[['возраст','к/дней', 'рост', 'вес']]"
   ]
  },
  {
   "cell_type": "code",
   "execution_count": null,
   "id": "19349ccc-0224-4678-a782-ce47e5278332",
   "metadata": {},
   "outputs": [],
   "source": [
    "import pandas as pd\n",
    "import numpy as np\n",
    "import matplotlib.pyplot as plt\n",
    "from sklearn.preprocessing import StandardScaler\n",
    "def euclidean_distance(x, y):\n",
    "    return np.sqrt(np.sum((x - y)**2))\n",
    "\n",
    "def knn_impute(df, target_col, k=3):\n",
    "    df = df.copy()\n",
    "    missing_indices = df.index[df[target_col].isnull()].tolist()\n",
    "    \n",
    "    for i in missing_indices:\n",
    "        row = df.loc[i]\n",
    "        non_missing_df = df.dropna()\n",
    "        distances = []\n",
    "        \n",
    "        for j, other_row in non_missing_df.iterrows():\n",
    "            dist = euclidean_distance(row.dropna(), other_row.loc[row.dropna().index])\n",
    "            distances.append((j, dist))\n",
    "\n",
    "        neighbors = sorted(distances, key=lambda x: x[1])[:k]\n",
    "        neighbor_indices = [index for index, _ in neighbors]\n",
    "        neighbor_df = df.iloc[neighbor_indices]\n",
    "        \n",
    "        if pd.isna(row[target_col]):\n",
    "            mean_val = neighbor_df[target_col].mean()\n",
    "            df.at[i, target_col] = mean_val\n",
    "\n",
    "    return df\n",
    "\n",
    "df_distance = df[['возраст','к/дней', 'рост', 'вес']]\n",
    "\n",
    "scaler = StandardScaler()\n",
    "scaler.fit(df_distance)\n",
    "df_scaled = pd.DataFrame(scaler.transform(df_distance), columns=df_distance.columns, index=df_distance.index)"
   ]
  },
  {
   "cell_type": "code",
   "execution_count": null,
   "id": "fcd3e06f-5adf-44bf-bc43-47f876f5a09c",
   "metadata": {},
   "outputs": [],
   "source": [
    "df_distance"
   ]
  },
  {
   "cell_type": "code",
   "execution_count": null,
   "id": "4cd14b95-a095-4deb-be0e-916f37e3cb87",
   "metadata": {},
   "outputs": [],
   "source": [
    "# Сохранение индексов пропущенных значений\n",
    "missing_indices = df_distance.index[df_distance.isnull().any(axis=1)].tolist()\n",
    "\n",
    "# Визуализация до KNN импутации\n",
    "plt.figure(figsize=(12, 5))\n",
    "plt.subplot(1, 2, 1)\n",
    "plt.scatter(df_distance['возраст'], df_distance['рост'], c='b')\n",
    "plt.scatter(df_distance['возраст'][df_distance['возраст'].isna()], df_distance['рост'][df_distance['возраст'].isna()], c='r', s=100)\n",
    "plt.title(\"Before KNN Imputation\")\n",
    "plt.xlabel(\"возраст\")\n",
    "plt.ylabel(\"рост\")\n",
    "\n",
    "# Применение KNN импутации\n",
    "df_impute = knn_impute(df_scaled, 'возраст')\n",
    "df_impute = pd.DataFrame(scaler.inverse_transform(df_impute), columns=df_distance.columns, index=df_distance.index)\n",
    "\n",
    "# Визуализация после KNN импутации\n",
    "plt.subplot(1, 2, 2)\n",
    "plt.scatter(df_impute['возраст'], df_impute['рост'], c='g')\n",
    "plt.scatter(df_impute.loc[missing_indices, 'возраст'], df_impute.loc[missing_indices, 'рост'], c='r', s=100)\n",
    "plt.title(\"After KNN Imputation\")\n",
    "plt.xlabel(\"возраст\")\n",
    "plt.ylabel(\"рост\")\n",
    "\n",
    "plt.show()"
   ]
  },
  {
   "cell_type": "markdown",
   "id": "9152fc83-8371-4372-9c0b-7e4e2752fccf",
   "metadata": {},
   "source": [
    "# Поиск пропусков в категориях"
   ]
  },
  {
   "cell_type": "markdown",
   "id": "b42e683e-0843-48ca-8046-1ed70e9cd4f0",
   "metadata": {},
   "source": [
    "## Мода и категориальные признаки"
   ]
  },
  {
   "cell_type": "code",
   "execution_count": null,
   "id": "5e1c2f67-8487-4bcf-8a05-e9f92e7bb148",
   "metadata": {},
   "outputs": [],
   "source": [
    "df = pd.read_excel('tuber.xlsx', sheet_name='исходные данные')\n",
    "df"
   ]
  },
  {
   "cell_type": "code",
   "execution_count": null,
   "id": "a91eba1d-3503-4029-8e1a-217569b73bdd",
   "metadata": {},
   "outputs": [],
   "source": [
    "df.info()"
   ]
  },
  {
   "cell_type": "code",
   "execution_count": null,
   "id": "22be035c-3eb0-4c31-91ce-5eaf966467da",
   "metadata": {},
   "outputs": [],
   "source": [
    "print(df.пол.unique())\n",
    "df.groupby('Режимы химиотерапии')['пол']\\\n",
    "    .apply(lambda x: x.mode().iloc[0])"
   ]
  },
  {
   "cell_type": "markdown",
   "id": "6676fcbd-d141-4c7c-a987-f3c6ca458759",
   "metadata": {},
   "source": [
    "## KNN"
   ]
  },
  {
   "cell_type": "code",
   "execution_count": null,
   "id": "80a60b58-919a-4fb5-87b6-a66ec4992b0f",
   "metadata": {},
   "outputs": [],
   "source": [
    "from sklearn.impute import KNNImputer\n",
    "import numpy as np\n",
    "import pandas as pd\n",
    "\n",
    "df_cat = pd.DataFrame({\n",
    "    'Age': [25, 30, 35, 40, 45],\n",
    "    'Gender': ['Male', 'Female', np.nan, 'Male', np.nan],\n",
    "    'Salary': [50000, 55000, 60000, 65000, 70000]\n",
    "})\n",
    "\n",
    "# LabelEncoding\n",
    "df_cat['Gender'] = df_cat['Gender'].map({'Male': 0, 'Female': 1})\n",
    "\n",
    "knn_imputer = KNNImputer(n_neighbors=3)\n",
    "df_imputed = knn_imputer.fit_transform(df_cat)\n",
    "\n",
    "df_imputed = pd.DataFrame(df_imputed, columns=df_cat.columns)\n",
    "\n",
    "df_imputed"
   ]
  },
  {
   "cell_type": "markdown",
   "id": "178ee500-b766-4539-8819-3df45ca4ce31",
   "metadata": {},
   "source": [
    "# Методы трансформации"
   ]
  },
  {
   "cell_type": "markdown",
   "id": "4fdcaf65-75ae-4904-81ef-43cb3908f193",
   "metadata": {},
   "source": [
    "## интерактивные признаки"
   ]
  },
  {
   "cell_type": "code",
   "execution_count": null,
   "id": "310a7000-8463-434c-8f44-61a01d7671e9",
   "metadata": {},
   "outputs": [],
   "source": [
    "df['BMI'] = df['вес'] / df['рост'].apply(lambda x: x**2)\n",
    "df['BMI']"
   ]
  },
  {
   "cell_type": "markdown",
   "id": "b9752981-4212-47b6-94f5-143262dd4002",
   "metadata": {},
   "source": [
    "## Масштабирование"
   ]
  },
  {
   "cell_type": "code",
   "execution_count": null,
   "id": "4da0d178-0393-47f2-8a3a-74567aa7f446",
   "metadata": {},
   "outputs": [],
   "source": [
    "from sklearn.preprocessing import StandardScaler, MinMaxScaler\n",
    "\n",
    "minmax_scaler = MinMaxScaler()\n",
    "standard_scaler = StandardScaler()\n",
    "\n",
    "# Apply MinMax scaling\n",
    "df['возраст_minmax'] = minmax_scaler.fit_transform(df[['возраст']])\n",
    "\n",
    "# Apply Standard scaling\n",
    "df['возраст_standard'] = standard_scaler.fit_transform(df[['возраст']])\n",
    "\n",
    "df[['возраст', 'возраст_minmax', 'возраст_standard']]"
   ]
  },
  {
   "cell_type": "markdown",
   "id": "9677284d-aca9-4e9c-a47c-0a6c2294b80d",
   "metadata": {},
   "source": [
    "## Бининг"
   ]
  },
  {
   "cell_type": "code",
   "execution_count": null,
   "id": "57872373-7d73-417e-9643-b5d4ee77aadb",
   "metadata": {},
   "outputs": [],
   "source": [
    "df_income = pd.DataFrame({\n",
    "    'ID': [1, 2, 3, 4, 5],\n",
    "    'Income': [20000, 40000, 60000, 120000, 180000]\n",
    "})\n",
    "\n",
    "# Define income bins and labels\n",
    "bins = [20000, 50000, 100000, 200000]\n",
    "labels = ['Low', 'Medium', 'High']\n",
    "df_income['Income_Category'] = pd.cut(df_income['Income'], bins=bins, labels=labels, right=False)\n",
    "\n",
    "df_income"
   ]
  },
  {
   "cell_type": "code",
   "execution_count": null,
   "id": "a0753f0a-2000-4835-8790-7244969811f8",
   "metadata": {},
   "outputs": [],
   "source": [
    "from sklearn.linear_model import LinearRegression\n",
    "import numpy as np\n",
    "\n",
    "# Создаем искусственные данные\n",
    "X = np.array([\n",
    "    [25, 50000],\n",
    "    [30, 55000],\n",
    "    [35, 60000],\n",
    "    [40, 100000],\n",
    "    [45, 110000],\n",
    "    [50, 105000]\n",
    "])\n",
    "y = np.array([0, 1, 0, 1, 1, 0])\n",
    "\n",
    "# Обучаем модель без масштабирования\n",
    "model = LinearRegression()\n",
    "model.fit(X, y)\n",
    "\n",
    "print(\"Веса без масштабирования: \", model.coef_)"
   ]
  },
  {
   "cell_type": "code",
   "execution_count": null,
   "id": "f81d8b6d-6f6d-4321-99cc-eb9027ea8c4b",
   "metadata": {},
   "outputs": [],
   "source": [
    "from sklearn.preprocessing import StandardScaler\n",
    "\n",
    "# Масштабируем признаки\n",
    "scaler = StandardScaler()\n",
    "X_scaled = scaler.fit_transform(X)\n",
    "\n",
    "# Обучаем модель с масштабированными данными\n",
    "model_scaled = LinearRegression()\n",
    "model_scaled.fit(X_scaled, y)\n",
    "\n",
    "print(\"Веса с масштабированием: \", model_scaled.coef_)"
   ]
  },
  {
   "cell_type": "code",
   "execution_count": null,
   "id": "9b9782fe-6a32-46df-a5fe-ccd98ae9c612",
   "metadata": {},
   "outputs": [],
   "source": [
    "import pandas as pd\n",
    "import numpy as np\n",
    "from sklearn.linear_model import LinearRegression\n",
    "from sklearn.metrics import mean_absolute_error\n",
    "from sklearn.model_selection import train_test_split\n",
    "from sklearn.preprocessing import MinMaxScaler\n",
    "\n",
    "df = pd.read_excel('tuber.xlsx', sheet_name='исходные данные')\n",
    "df = df[['к/дней', 'пол', 'возраст', 'Алкоголь']].dropna()\n",
    "\n",
    "# Замените значения в столбце 'пол' на 1, если это 'ж', иначе 0\n",
    "df['пол'] = df['пол'].apply(lambda x: 1 if x == 'ж' else 0)\n",
    "df['возраст'] = df['возраст'].astype(float)\n",
    "# Замените значения в столбце 'Алкоголь' на 1, если содержит 'да', иначе 0\n",
    "df['Алкоголь'] = df['Алкоголь'].apply(lambda x: 1 if 'да' in x else 0)\n",
    "scaler = MinMaxScaler()\n",
    "df['возраст'] = scaler.fit_transform(df[['возраст']])\n",
    "df"
   ]
  },
  {
   "cell_type": "code",
   "execution_count": null,
   "id": "ae29a497-7369-492c-96c2-25c06acf5ee4",
   "metadata": {},
   "outputs": [],
   "source": [
    "# Разделяем признаки и целевую переменную\n",
    "X = df[['возраст', 'пол']]\n",
    "y = df['к/дней']\n",
    "y = y.values.reshape(-1, 1)\n",
    "\n",
    "# Разделяем данные на обучающий и тестовый наборы\n",
    "X_train, X_test, y_train, y_test = train_test_split(X, y, test_size=0.2, random_state=42)\n",
    "\n",
    "\n",
    "# Линейная регрессия\n",
    "model = LinearRegression()\n",
    "model.fit(X_train, y_train)\n",
    "\n",
    "# Выводим коэффициенты\n",
    "print('Коэффициенты:')\n",
    "print(model.coef_)\n",
    "\n",
    "# Предсказываем результат на тестовом наборе\n",
    "y_pred = model.predict(X_test)\n",
    "\n",
    "# Оцениваем модель по MAE\n",
    "mae = mean_absolute_error(y_test, y_pred)\n",
    "print(f'Средняя абсолютная ошибка (MAE): {mae:.2f}')"
   ]
  },
  {
   "cell_type": "code",
   "execution_count": null,
   "id": "baa835b1-1367-4b14-b7d8-2a2fb727dadc",
   "metadata": {},
   "outputs": [],
   "source": [
    "# Разделяем признаки и целевую переменную\n",
    "X = pd.get_dummies(X, columns=['пол'])\n",
    "y = df['к/дней']\n",
    "y = y.values.reshape(-1, 1)\n",
    "\n",
    "X_train, X_test, y_train, y_test = train_test_split(X, y, test_size=0.2, random_state=42)\n",
    "# Линейная регрессия\n",
    "model = LinearRegression()\n",
    "model.fit(X_train, y_train)\n",
    "\n",
    "# Выводим коэффициенты\n",
    "print('Коэффициенты:')\n",
    "print(model.coef_)\n",
    "\n",
    "# Предсказываем результат на тестовом наборе\n",
    "y_pred = model.predict(X_test)\n",
    "\n",
    "# Оцениваем модель по MAE\n",
    "mae = mean_absolute_error(y_test, y_pred)\n",
    "print(f'Средняя абсолютная ошибка (MAE): {mae:.2f}')"
   ]
  },
  {
   "cell_type": "code",
   "execution_count": null,
   "id": "e0e8c8b3-8bc4-4937-918e-06c249e5c52b",
   "metadata": {},
   "outputs": [],
   "source": []
  },
  {
   "cell_type": "code",
   "execution_count": null,
   "id": "bbca0c21-66b8-49fb-99ed-c0117b07bccb",
   "metadata": {},
   "outputs": [],
   "source": [
    "df_alco = df['Алкоголь'].copy().dropna()\n",
    "alco = pd.get_dummies(df_alco).astype(int)"
   ]
  },
  {
   "cell_type": "code",
   "execution_count": null,
   "id": "4b3cb499-b7a9-4a0e-b663-b98905e70a7f",
   "metadata": {},
   "outputs": [],
   "source": [
    "alco"
   ]
  },
  {
   "cell_type": "code",
   "execution_count": null,
   "id": "56acdb62-222f-42a3-886f-ed70356ce25b",
   "metadata": {},
   "outputs": [],
   "source": [
    "from sklearn.preprocessing import OneHotEncoder\n",
    "\n",
    "enc = OneHotEncoder(handle_unknown='ignore')\n",
    "enc.fit(alco)"
   ]
  },
  {
   "cell_type": "code",
   "execution_count": null,
   "id": "9a7ed4b7-e52c-4426-909f-ab128711ae84",
   "metadata": {},
   "outputs": [],
   "source": [
    "enc.categories_"
   ]
  },
  {
   "cell_type": "code",
   "execution_count": 2,
   "id": "4fc57c2e-b0a8-4f6d-abc6-bdf15478a28c",
   "metadata": {},
   "outputs": [
    {
     "data": {
      "text/plain": [
       "0        м\n",
       "1        ж\n",
       "2        ж\n",
       "3        м\n",
       "4        м\n",
       "      ... \n",
       "398    NaN\n",
       "399    NaN\n",
       "400    NaN\n",
       "401    NaN\n",
       "402    NaN\n",
       "Name: пол, Length: 403, dtype: object"
      ]
     },
     "execution_count": 2,
     "metadata": {},
     "output_type": "execute_result"
    }
   ],
   "source": [
    "import pandas as pd\n",
    "df = pd.read_excel('tuber.xlsx', sheet_name='исходные данные')\n"
   ]
  },
  {
   "cell_type": "code",
   "execution_count": 6,
   "id": "31200745-0747-4b18-bc00-9d0c99bc561c",
   "metadata": {},
   "outputs": [
    {
     "data": {
      "text/plain": [
       "0      м\n",
       "1      ж\n",
       "2      ж\n",
       "3      м\n",
       "4      м\n",
       "      ..\n",
       "356    ж\n",
       "357    м\n",
       "358    ж\n",
       "359    ж\n",
       "360    м\n",
       "Name: пол, Length: 361, dtype: object"
      ]
     },
     "execution_count": 6,
     "metadata": {},
     "output_type": "execute_result"
    }
   ],
   "source": [
    "df['пол'].dropna()"
   ]
  },
  {
   "cell_type": "code",
   "execution_count": 8,
   "id": "be3b51e3-f6f5-4632-9efb-ad2623885141",
   "metadata": {},
   "outputs": [
    {
     "data": {
      "text/html": [
       "<div>\n",
       "<style scoped>\n",
       "    .dataframe tbody tr th:only-of-type {\n",
       "        vertical-align: middle;\n",
       "    }\n",
       "\n",
       "    .dataframe tbody tr th {\n",
       "        vertical-align: top;\n",
       "    }\n",
       "\n",
       "    .dataframe thead th {\n",
       "        text-align: right;\n",
       "    }\n",
       "</style>\n",
       "<table border=\"1\" class=\"dataframe\">\n",
       "  <thead>\n",
       "    <tr style=\"text-align: right;\">\n",
       "      <th></th>\n",
       "      <th>ж</th>\n",
       "      <th>м</th>\n",
       "      <th>мм</th>\n",
       "    </tr>\n",
       "  </thead>\n",
       "  <tbody>\n",
       "    <tr>\n",
       "      <th>0</th>\n",
       "      <td>0</td>\n",
       "      <td>1</td>\n",
       "      <td>0</td>\n",
       "    </tr>\n",
       "    <tr>\n",
       "      <th>1</th>\n",
       "      <td>1</td>\n",
       "      <td>0</td>\n",
       "      <td>0</td>\n",
       "    </tr>\n",
       "    <tr>\n",
       "      <th>2</th>\n",
       "      <td>1</td>\n",
       "      <td>0</td>\n",
       "      <td>0</td>\n",
       "    </tr>\n",
       "    <tr>\n",
       "      <th>3</th>\n",
       "      <td>0</td>\n",
       "      <td>1</td>\n",
       "      <td>0</td>\n",
       "    </tr>\n",
       "    <tr>\n",
       "      <th>4</th>\n",
       "      <td>0</td>\n",
       "      <td>1</td>\n",
       "      <td>0</td>\n",
       "    </tr>\n",
       "    <tr>\n",
       "      <th>...</th>\n",
       "      <td>...</td>\n",
       "      <td>...</td>\n",
       "      <td>...</td>\n",
       "    </tr>\n",
       "    <tr>\n",
       "      <th>356</th>\n",
       "      <td>1</td>\n",
       "      <td>0</td>\n",
       "      <td>0</td>\n",
       "    </tr>\n",
       "    <tr>\n",
       "      <th>357</th>\n",
       "      <td>0</td>\n",
       "      <td>1</td>\n",
       "      <td>0</td>\n",
       "    </tr>\n",
       "    <tr>\n",
       "      <th>358</th>\n",
       "      <td>1</td>\n",
       "      <td>0</td>\n",
       "      <td>0</td>\n",
       "    </tr>\n",
       "    <tr>\n",
       "      <th>359</th>\n",
       "      <td>1</td>\n",
       "      <td>0</td>\n",
       "      <td>0</td>\n",
       "    </tr>\n",
       "    <tr>\n",
       "      <th>360</th>\n",
       "      <td>0</td>\n",
       "      <td>1</td>\n",
       "      <td>0</td>\n",
       "    </tr>\n",
       "  </tbody>\n",
       "</table>\n",
       "<p>361 rows × 3 columns</p>\n",
       "</div>"
      ],
      "text/plain": [
       "     ж  м  мм\n",
       "0    0  1   0\n",
       "1    1  0   0\n",
       "2    1  0   0\n",
       "3    0  1   0\n",
       "4    0  1   0\n",
       "..  .. ..  ..\n",
       "356  1  0   0\n",
       "357  0  1   0\n",
       "358  1  0   0\n",
       "359  1  0   0\n",
       "360  0  1   0\n",
       "\n",
       "[361 rows x 3 columns]"
      ]
     },
     "execution_count": 8,
     "metadata": {},
     "output_type": "execute_result"
    }
   ],
   "source": [
    "pd.get_dummies(df['пол'].dropna()).astype(int)"
   ]
  },
  {
   "cell_type": "code",
   "execution_count": null,
   "id": "ce5de983-d2c7-45eb-a008-c06c0ec2806e",
   "metadata": {},
   "outputs": [],
   "source": []
  }
 ],
 "metadata": {
  "kernelspec": {
   "display_name": "Python 3 (ipykernel)",
   "language": "python",
   "name": "python3"
  },
  "language_info": {
   "codemirror_mode": {
    "name": "ipython",
    "version": 3
   },
   "file_extension": ".py",
   "mimetype": "text/x-python",
   "name": "python",
   "nbconvert_exporter": "python",
   "pygments_lexer": "ipython3",
   "version": "3.11.3"
  }
 },
 "nbformat": 4,
 "nbformat_minor": 5
}
