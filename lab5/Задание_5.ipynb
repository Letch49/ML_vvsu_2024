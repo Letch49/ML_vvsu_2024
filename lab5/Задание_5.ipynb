{
  "nbformat": 4,
  "nbformat_minor": 0,
  "metadata": {
    "colab": {
      "provenance": [],
      "include_colab_link": true
    },
    "kernelspec": {
      "name": "python3",
      "display_name": "Python 3"
    },
    "language_info": {
      "name": "python"
    }
  },
  "cells": [
    {
      "cell_type": "markdown",
      "metadata": {
        "id": "view-in-github",
        "colab_type": "text"
      },
      "source": [
        "<a href=\"https://colab.research.google.com/github/Letch49/ML_vvsu_2024/blob/master/lab5/%D0%97%D0%B0%D0%B4%D0%B0%D0%BD%D0%B8%D0%B5_5.ipynb\" target=\"_parent\"><img src=\"https://colab.research.google.com/assets/colab-badge.svg\" alt=\"Open In Colab\"/></a>"
      ]
    },
    {
      "cell_type": "markdown",
      "source": [
        "#Линейная регрессия"
      ],
      "metadata": {
        "id": "G47iOa3XoMqn"
      }
    },
    {
      "cell_type": "markdown",
      "source": [
        "##Выбор и исключение переменных"
      ],
      "metadata": {
        "id": "OijJK4kjoRtP"
      }
    },
    {
      "cell_type": "markdown",
      "source": [
        "Загрузите набор данных из файла ```Regressions datasets``` в соответствии с вашим вариантом (о смене датасета - индивидуально)"
      ],
      "metadata": {
        "id": "t1z-KT8LoXzR"
      }
    },
    {
      "cell_type": "code",
      "execution_count": null,
      "metadata": {
        "id": "OHlc5Gj4oHYa"
      },
      "outputs": [],
      "source": [
        "df = #чтение файла"
      ]
    },
    {
      "cell_type": "markdown",
      "source": [
        "### Предварительный анализ\n",
        "\n",
        "1. Выбрать целевую переменную Y (Y - числоая переменная для задачи регрессии)\n",
        "2. С помощью EDA (см практика) отобрать признаки, которые влияют на Y (можно определить гарфически, можно числами).\n",
        "3. Обработать пропуски, при необходимости почистить от выбросов (тут важное замечание - не все выбросы это плохо)\n",
        "4. Обосновать выбор переменных для исследования (корреляция, различия по классам, и так далее)\n",
        "\n",
        "P.S. Важное замечание, слишком уникальные признаки (имена людей, названия город, ID юзера или чего-то еще - не берем, так как они не влияют на целевую переменную, а если и влияет, то это случайно)"
      ],
      "metadata": {
        "id": "690VR8MMom-Q"
      }
    },
    {
      "cell_type": "code",
      "source": [
        "\"\"\"\n",
        "Код здесь\n",
        "\"\"\""
      ],
      "metadata": {
        "id": "v86EZmGLpF7F"
      },
      "execution_count": null,
      "outputs": []
    },
    {
      "cell_type": "markdown",
      "source": [
        "### Трансформация набора данных\n",
        "\n",
        "(OneHotEncode для категориальных переменных)\n",
        "\n",
        "(Standard or MinMax or бининг или другое преобразование для числовых)\n",
        "\n",
        "P.S. Целевую переменную не преобразовываем, оставляем как есть\n"
      ],
      "metadata": {
        "id": "gX7aWQdhJPiU"
      }
    },
    {
      "cell_type": "code",
      "source": [
        "\"\"\"\n",
        "Код здесь\n",
        "\"\"\""
      ],
      "metadata": {
        "id": "DtKKcfXTJOmK"
      },
      "execution_count": null,
      "outputs": []
    },
    {
      "cell_type": "markdown",
      "source": [
        "### Разделение данных\n",
        "\n",
        "Для начала, разделить данные на X и Y\n",
        "\n",
        "Разбить данные на тестовую и обучающую выборки\n",
        "\n",
        "https://scikit-learn.org/stable/modules/generated/sklearn.model_selection.train_test_split.html"
      ],
      "metadata": {
        "id": "Y9ZZmIC9Jhxx"
      }
    },
    {
      "cell_type": "code",
      "source": [
        "\"\"\"\n",
        "Код здесь\n",
        "\"\"\""
      ],
      "metadata": {
        "id": "mctEhzJuJhUX"
      },
      "execution_count": null,
      "outputs": []
    },
    {
      "cell_type": "markdown",
      "source": [
        "### Обучение\n",
        "#### 1 Регрессия\n",
        "- Обучить линейную регрессию на тренировочных данных (https://scikit-learn.org/stable/modules/generated/sklearn.linear_model.LinearRegression.html#sklearn.linear_model.LinearRegression)\n",
        "- Сдлеать .predict() для X_train, X_test\n",
        "- Рассчитать метрики качества MAE, MSE, MAPE, R2\n",
        "- Вывести и написать выводы о коэфициентах регрессии\n",
        "- Написать формулу регрессии\n",
        "\n",
        "Сделать выводы о переобучении модели (см метрики на тестовой выборке) сделать выводы о метриках на тестовом наборе\n",
        "\n",
        "#### 2 Ближайшие соседи\n",
        "- Обучить KNN (https://scikit-learn.org/stable/modules/generated/sklearn.neighbors.KNeighborsRegressor.html#sklearn.neighbors.KNeighborsRegressor)\n",
        "- Сдлеать .predict() для X_train, X_test\n",
        "- Рассчитать метрики качества MAE, MSE, MAPE, R2\n",
        "\n",
        "Сделать выводы о переобучении модели (см метрики на тестовой выборке) сделать выводы о метриках на тестовом наборе"
      ],
      "metadata": {
        "id": "mXsxKiIFVlR4"
      }
    },
    {
      "cell_type": "code",
      "source": [
        "\"\"\"\n",
        "Код здесь\n",
        "\"\"\""
      ],
      "metadata": {
        "id": "42k13YOgWdBL"
      },
      "execution_count": null,
      "outputs": []
    },
    {
      "cell_type": "markdown",
      "source": [
        "##Задание для гениев*"
      ],
      "metadata": {
        "id": "NkvI5Q9c3Vqp"
      }
    },
    {
      "cell_type": "markdown",
      "source": [
        "Удачи 😈\n",
        "\n",
        "В практике есть примеры реализации ```linear_regression``` и ```knn_regressor```, но есть нюанс... Сейчас ни linear_regression, ни knn_regressor не поддерживают сохранения состояния для последующего возможного использования.\n",
        "\n",
        "Необходимо - реализовать два класса LinearRegression и KNNRegression (примеры обучения моделек есть). В этих классах обязатльно должны быть два метода\n",
        "\n",
        ".fit(X: np.array, y: np.array) -> None - обучить модель и сохранить внутреннее состояние модели\n",
        ".predict(X) -> np.array - предсказать y на основе X\n",
        "\n",
        "При инициализации класса - передавать параметры модели в момент инициализации. Например:\n",
        "\n",
        "```\n",
        "model = LinearRegression(**params)\n",
        "\n",
        "model.fit(X_train, y_train)\n",
        "model.predict(X_test)\n",
        "```\n",
        "\n",
        "В качестве тестов можно использовать KNN и LinearRegression из sklearn, результат работы ваших объектов должен примерно совпадать с результатами работы объектов из sklearn\n",
        "\n",
        "В результате работы сделать сравнение с теми же данными в sklearn"
      ],
      "metadata": {
        "id": "bmfP-yabibqx"
      }
    },
    {
      "cell_type": "code",
      "source": [
        "\"\"\"\n",
        "Результат работы\n",
        "\"\"\""
      ],
      "metadata": {
        "id": "LqvlY3qc4P6h"
      },
      "execution_count": null,
      "outputs": []
    }
  ]
}